{
 "cells": [
  {
   "cell_type": "markdown",
   "id": "40116830",
   "metadata": {},
   "source": [
    "# Report about the output"
   ]
  },
  {
   "cell_type": "markdown",
   "id": "43f374df",
   "metadata": {},
   "source": [
    "![示例图片](../output/Scatter_Prices_VS_Distance.png)"
   ]
  },
  {
   "cell_type": "markdown",
   "id": "585dbfe6",
   "metadata": {},
   "source": []
  },
  {
   "cell_type": "markdown",
   "id": "4392e9cc",
   "metadata": {},
   "source": [
    "From the scatter plot, we can see that the price of a hotel is not necessarily related to its distance to city center, at least in Vienna."
   ]
  }
 ],
 "metadata": {
  "language_info": {
   "name": "python"
  }
 },
 "nbformat": 4,
 "nbformat_minor": 5
}
